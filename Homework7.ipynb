{
 "cells": [
  {
   "cell_type": "markdown",
   "id": "prerequisite-instruction",
   "metadata": {},
   "source": [
    "\n",
    "\n",
    "Найти в интернете любую выборку объёма не менее 100 наблюдений, если вы будете делать программу для её обработки, не менее 20 наблюдений, если вы будете считать вручную.\n",
    "\n",
    "    По этой выборке (желательно программно, но можно и вручную) построить графики выборочной функции распределения, гистограммы и/или ядерной оценки плотности вероятности.\n",
    "    В предположении, что наблюдения имеют нормальное распределение, построить односторонние и двусторонние доверительные интервалы надёжности 0,9 и 0,95 для математического ожидания и дисперсии.\n",
    "\n"
   ]
  },
  {
   "cell_type": "code",
   "execution_count": 21,
   "id": "defensive-suspect",
   "metadata": {},
   "outputs": [],
   "source": [
    "import pandas as pd\n",
    "import numpy as np\n",
    "from scipy import stats"
   ]
  },
  {
   "cell_type": "code",
   "execution_count": 22,
   "id": "powerful-taiwan",
   "metadata": {},
   "outputs": [],
   "source": [
    "data = pd.read_csv('SOCR-HeightWeight.csv')"
   ]
  },
  {
   "cell_type": "code",
   "execution_count": 23,
   "id": "obvious-county",
   "metadata": {},
   "outputs": [
    {
     "data": {
      "text/html": [
       "<div>\n",
       "<style scoped>\n",
       "    .dataframe tbody tr th:only-of-type {\n",
       "        vertical-align: middle;\n",
       "    }\n",
       "\n",
       "    .dataframe tbody tr th {\n",
       "        vertical-align: top;\n",
       "    }\n",
       "\n",
       "    .dataframe thead th {\n",
       "        text-align: right;\n",
       "    }\n",
       "</style>\n",
       "<table border=\"1\" class=\"dataframe\">\n",
       "  <thead>\n",
       "    <tr style=\"text-align: right;\">\n",
       "      <th></th>\n",
       "      <th>Index</th>\n",
       "      <th>Height(Inches)</th>\n",
       "      <th>Weight(Pounds)</th>\n",
       "    </tr>\n",
       "  </thead>\n",
       "  <tbody>\n",
       "    <tr>\n",
       "      <th>0</th>\n",
       "      <td>1</td>\n",
       "      <td>65.78331</td>\n",
       "      <td>112.9925</td>\n",
       "    </tr>\n",
       "    <tr>\n",
       "      <th>1</th>\n",
       "      <td>2</td>\n",
       "      <td>71.51521</td>\n",
       "      <td>136.4873</td>\n",
       "    </tr>\n",
       "    <tr>\n",
       "      <th>2</th>\n",
       "      <td>3</td>\n",
       "      <td>69.39874</td>\n",
       "      <td>153.0269</td>\n",
       "    </tr>\n",
       "    <tr>\n",
       "      <th>3</th>\n",
       "      <td>4</td>\n",
       "      <td>68.21660</td>\n",
       "      <td>142.3354</td>\n",
       "    </tr>\n",
       "    <tr>\n",
       "      <th>4</th>\n",
       "      <td>5</td>\n",
       "      <td>67.78781</td>\n",
       "      <td>144.2971</td>\n",
       "    </tr>\n",
       "  </tbody>\n",
       "</table>\n",
       "</div>"
      ],
      "text/plain": [
       "   Index  Height(Inches)  Weight(Pounds)\n",
       "0      1        65.78331        112.9925\n",
       "1      2        71.51521        136.4873\n",
       "2      3        69.39874        153.0269\n",
       "3      4        68.21660        142.3354\n",
       "4      5        67.78781        144.2971"
      ]
     },
     "execution_count": 23,
     "metadata": {},
     "output_type": "execute_result"
    }
   ],
   "source": [
    "data.head()"
   ]
  },
  {
   "cell_type": "markdown",
   "id": "healthy-storm",
   "metadata": {},
   "source": [
    "Такс. Тут американская система измерения в попугаях на кубический метр. Приведем к Си."
   ]
  },
  {
   "cell_type": "code",
   "execution_count": 24,
   "id": "complete-estate",
   "metadata": {},
   "outputs": [],
   "source": [
    "data['Height(Inches)'] = data['Height(Inches)'] *  2.54\n",
    "data['Weight(Pounds)'] = data['Weight(Pounds)'] * 0.45359\n",
    "data.columns = ['index', 'Height', 'Weight']"
   ]
  },
  {
   "cell_type": "code",
   "execution_count": 25,
   "id": "veterinary-hebrew",
   "metadata": {},
   "outputs": [
    {
     "data": {
      "text/html": [
       "<div>\n",
       "<style scoped>\n",
       "    .dataframe tbody tr th:only-of-type {\n",
       "        vertical-align: middle;\n",
       "    }\n",
       "\n",
       "    .dataframe tbody tr th {\n",
       "        vertical-align: top;\n",
       "    }\n",
       "\n",
       "    .dataframe thead th {\n",
       "        text-align: right;\n",
       "    }\n",
       "</style>\n",
       "<table border=\"1\" class=\"dataframe\">\n",
       "  <thead>\n",
       "    <tr style=\"text-align: right;\">\n",
       "      <th></th>\n",
       "      <th>index</th>\n",
       "      <th>Height</th>\n",
       "      <th>Weight</th>\n",
       "    </tr>\n",
       "  </thead>\n",
       "  <tbody>\n",
       "    <tr>\n",
       "      <th>0</th>\n",
       "      <td>1</td>\n",
       "      <td>167.089607</td>\n",
       "      <td>51.252268</td>\n",
       "    </tr>\n",
       "    <tr>\n",
       "      <th>1</th>\n",
       "      <td>2</td>\n",
       "      <td>181.648633</td>\n",
       "      <td>61.909274</td>\n",
       "    </tr>\n",
       "    <tr>\n",
       "      <th>2</th>\n",
       "      <td>3</td>\n",
       "      <td>176.272800</td>\n",
       "      <td>69.411472</td>\n",
       "    </tr>\n",
       "    <tr>\n",
       "      <th>3</th>\n",
       "      <td>4</td>\n",
       "      <td>173.270164</td>\n",
       "      <td>64.561914</td>\n",
       "    </tr>\n",
       "    <tr>\n",
       "      <th>4</th>\n",
       "      <td>5</td>\n",
       "      <td>172.181037</td>\n",
       "      <td>65.451722</td>\n",
       "    </tr>\n",
       "  </tbody>\n",
       "</table>\n",
       "</div>"
      ],
      "text/plain": [
       "   index      Height     Weight\n",
       "0      1  167.089607  51.252268\n",
       "1      2  181.648633  61.909274\n",
       "2      3  176.272800  69.411472\n",
       "3      4  173.270164  64.561914\n",
       "4      5  172.181037  65.451722"
      ]
     },
     "execution_count": 25,
     "metadata": {},
     "output_type": "execute_result"
    }
   ],
   "source": [
    "data.head()"
   ]
  },
  {
   "cell_type": "markdown",
   "id": "durable-marshall",
   "metadata": {},
   "source": [
    "## Выборочное среднее, выборочаня дисперсия и выборочаня квантиль\n",
    "### Выборочное среднее"
   ]
  },
  {
   "cell_type": "code",
   "execution_count": 44,
   "id": "pediatric-synthetic",
   "metadata": {},
   "outputs": [
    {
     "data": {
      "text/plain": [
       "172.702508535872"
      ]
     },
     "execution_count": 44,
     "metadata": {},
     "output_type": "execute_result"
    }
   ],
   "source": [
    "scipy.stats.tmean(data['Height'])"
   ]
  },
  {
   "cell_type": "markdown",
   "id": "wireless-civilian",
   "metadata": {},
   "source": [
    "### Выборочная дисперсия"
   ]
  },
  {
   "cell_type": "code",
   "execution_count": 45,
   "id": "owned-alcohol",
   "metadata": {},
   "outputs": [
    {
     "data": {
      "text/plain": [
       "23.33145107154699"
      ]
     },
     "execution_count": 45,
     "metadata": {},
     "output_type": "execute_result"
    }
   ],
   "source": [
    "scipy.stats.tvar(data['Height'])"
   ]
  },
  {
   "cell_type": "markdown",
   "id": "harmful-richards",
   "metadata": {},
   "source": [
    "### Квантиль"
   ]
  },
  {
   "cell_type": "code",
   "execution_count": 52,
   "id": "enabling-cooper",
   "metadata": {},
   "outputs": [
    {
     "data": {
      "text/plain": [
       "176.603161144"
      ]
     },
     "execution_count": 52,
     "metadata": {},
     "output_type": "execute_result"
    }
   ],
   "source": [
    "np.quantile(data['Height'], .79)"
   ]
  },
  {
   "cell_type": "markdown",
   "id": "several-diving",
   "metadata": {},
   "source": [
    "### Построим гистограмму"
   ]
  },
  {
   "cell_type": "code",
   "execution_count": 26,
   "id": "insured-baghdad",
   "metadata": {},
   "outputs": [],
   "source": [
    "import matplotlib.pyplot as plt"
   ]
  },
  {
   "cell_type": "code",
   "execution_count": 28,
   "id": "traditional-probe",
   "metadata": {},
   "outputs": [
    {
     "data": {
      "image/png": "[encoded data removed]",
      "text/plain": [
       "<Figure size 432x288 with 1 Axes>"
      ]
     },
     "metadata": {
      "needs_background": "light"
     },
     "output_type": "display_data"
    }
   ],
   "source": [
    "plt.hist(data['Height'], bins = 30);"
   ]
  },
  {
   "cell_type": "code",
   "execution_count": 29,
   "id": "mexican-ethics",
   "metadata": {},
   "outputs": [
    {
     "data": {
      "image/png": "[encoded data removed]",
      "text/plain": [
       "<Figure size 432x288 with 1 Axes>"
      ]
     },
     "metadata": {
      "needs_background": "light"
     },
     "output_type": "display_data"
    }
   ],
   "source": [
    "plt.hist(data['Weight'], bins = 30);"
   ]
  },
  {
   "cell_type": "markdown",
   "id": "responsible-shoot",
   "metadata": {},
   "source": [
    "## ядерная оцека плотности вероятности"
   ]
  },
  {
   "cell_type": "code",
   "execution_count": 31,
   "id": "assisted-ending",
   "metadata": {},
   "outputs": [
    {
     "data": {
      "image/png": "[encoded data removed]",
      "text/plain": [
       "<Figure size 432x288 with 1 Axes>"
      ]
     },
     "metadata": {
      "needs_background": "light"
     },
     "output_type": "display_data"
    }
   ],
   "source": [
    "data['Height'].plot.kde();"
   ]
  },
  {
   "cell_type": "code",
   "execution_count": 32,
   "id": "weekly-swiss",
   "metadata": {},
   "outputs": [
    {
     "data": {
      "image/png": "[encoded data removed]",
      "text/plain": [
       "<Figure size 432x288 with 1 Axes>"
      ]
     },
     "metadata": {
      "needs_background": "light"
     },
     "output_type": "display_data"
    }
   ],
   "source": [
    "data['Weight'].plot.kde();"
   ]
  },
  {
   "cell_type": "markdown",
   "id": "instant-compact",
   "metadata": {},
   "source": [
    "\n",
    "### Построим доверительные интревалы\n",
    "* 1) Слегка измененный велосипед - тут легче формулу увидеть\n",
    "* 2) Встроенными методами. Результаты ооочень близки\n"
   ]
  },
  {
   "cell_type": "code",
   "execution_count": 42,
   "id": "after-repair",
   "metadata": {},
   "outputs": [],
   "source": [
    "import scipy\n",
    "\n",
    "def mean_confidence_interval(data, confidence=0.95):\n",
    "    a = 1.0 * np.array(data)\n",
    "    n = len(a)\n",
    "    m, se =  scipy.stats.tmean(a), scipy.stats.sem(a)\n",
    "    h = se * scipy.stats.t.ppf((1 + confidence) / 2., n-1)\n",
    "    return m, m-h, m+h\n",
    "\n"
   ]
  },
  {
   "cell_type": "code",
   "execution_count": 43,
   "id": "seeing-thanks",
   "metadata": {},
   "outputs": [
    {
     "name": "stdout",
     "output_type": "stream",
     "text": [
      "(172.702508535872, 172.6426301631557, 172.7623869085883)\n"
     ]
    }
   ],
   "source": [
    "print(mean_confidence_interval(data['Height']))"
   ]
  },
  {
   "cell_type": "code",
   "execution_count": 41,
   "id": "tested-mainstream",
   "metadata": {},
   "outputs": [
    {
     "data": {
      "text/plain": [
       "(172.64263425977748, 172.76238281196652)"
      ]
     },
     "execution_count": 41,
     "metadata": {},
     "output_type": "execute_result"
    }
   ],
   "source": [
    "mean, sigma = np.mean(data['Height']), np.std(data['Height'])\n",
    "\n",
    "stats.norm.interval(0.95, loc=mean, scale=sigma/ np.sqrt(len(data['Height'])))"
   ]
  },
  {
   "cell_type": "code",
   "execution_count": null,
   "id": "minus-graham",
   "metadata": {},
   "outputs": [],
   "source": []
  }
 ],
 "metadata": {
  "kernelspec": {
   "display_name": "Python 3",
   "language": "python",
   "name": "python3"
  },
  "language_info": {
   "codemirror_mode": {
    "name": "ipython",
    "version": 3
   },
   "file_extension": ".py",
   "mimetype": "text/x-python",
   "name": "python",
   "nbconvert_exporter": "python",
   "pygments_lexer": "ipython3",
   "version": "3.8.5"
  }
 },
 "nbformat": 4,
 "nbformat_minor": 5
}
